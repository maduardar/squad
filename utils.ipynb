{
 "cells": [
  {
   "cell_type": "code",
   "execution_count": 1,
   "metadata": {},
   "outputs": [],
   "source": [
    "def tokenize(vector, word_dict):\n",
    "    global i\n",
    "    from nltk.tokenize import RegexpTokenizer\n",
    "#     tokenizer = RegexpTokenizer('\\w+|\\$[\\d]+|\\S+')\n",
    "#     tokenizer = RegexpTokenizer('\\w+') \n",
    "    tokenizer = RegexpTokenizer('(\\w+([\\'-]\\w+)*)')\n",
    "    tokens = tokenizer.tokenize(vector)\n",
    "    words = []\n",
    "    for w in tokens:\n",
    "        if w[0].isalnum():\n",
    "            word = w[0].lower()\n",
    "            if word in word_dict:\n",
    "                words.append(word_dict[word])\n",
    "    return words\n",
    "\n",
    "def find(mylist, sublist):\n",
    "    h = len(mylist)\n",
    "    n = len(sublist)\n",
    "    skip = {sublist[i]: n - i - 1 for i in range(n - 1)}\n",
    "    i = n - 1\n",
    "    while i < h:\n",
    "        for j in range(n):\n",
    "            if mylist[i - j] != sublist[-j - 1]:\n",
    "                i += skip.get(mylist[i], n)\n",
    "                break\n",
    "        else:\n",
    "            return i - n + 1\n",
    "    return -1\n",
    "def pad_sequence(lst, maxlen):\n",
    "    array = np.zeros((len(lst), maxlen), dtype=np.int)\n",
    "    for i in range(len(lst)):\n",
    "        for j in range(min(len(lst[i]) - 1, maxlen)):\n",
    "            array[i][j] = lst[i][j]\n",
    "    return array\n",
    "\n",
    "def padding(context, question, answer, begin, end):\n",
    "    context_array = pad_sequence(context, context_maxlen)\n",
    "    question_array = pad_sequence(question, ques_maxlen)\n",
    "    answer_array = pad_sequence(answer, answer_maxlen)\n",
    "    begin_array = np.zeros((len(begin), context_maxlen), dtype=np.int)\n",
    "    end_array = np.zeros((len(end), context_maxlen), dtype=np.int)\n",
    "\n",
    "    for i in range(len(begin)):\n",
    "        begin_array[i][min(begin[i], context_maxlen - 1)] = 1 \n",
    "\n",
    "    for i in range(len(end)):\n",
    "        end_array[i][min(end[i], context_maxlen - 1)] = 1\n",
    "\n",
    "    print('context: ', context_array.shape)\n",
    "    print('question: ', question_array.shape)\n",
    "    print('answer: ', answer_array.shape)\n",
    "    print('answer start: ', begin_array.shape)\n",
    "    print('answer end: ',end_array.shape)\n",
    "    return context_array, question_array, answer_array, begin_array, end_array"
   ]
  },
  {
   "cell_type": "code",
   "execution_count": null,
   "metadata": {},
   "outputs": [],
   "source": []
  }
 ],
 "metadata": {
  "kernelspec": {
   "display_name": "Python 3",
   "language": "python",
   "name": "python3"
  },
  "language_info": {
   "codemirror_mode": {
    "name": "ipython",
    "version": 3
   },
   "file_extension": ".py",
   "mimetype": "text/x-python",
   "name": "python",
   "nbconvert_exporter": "python",
   "pygments_lexer": "ipython3",
   "version": "3.6.3"
  }
 },
 "nbformat": 4,
 "nbformat_minor": 2
}
